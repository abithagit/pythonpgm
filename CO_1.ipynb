{
  "nbformat": 4,
  "nbformat_minor": 0,
  "metadata": {
    "colab": {
      "name": "CO-1",
      "provenance": [],
      "collapsed_sections": [],
      "authorship_tag": "ABX9TyNXfhNOMsStF1jeriA4r/12",
      "include_colab_link": true
    },
    "kernelspec": {
      "display_name": "Python 3",
      "name": "python3"
    }
  },
  "cells": [
    {
      "cell_type": "markdown",
      "metadata": {
        "id": "view-in-github",
        "colab_type": "text"
      },
      "source": [
        "<a href=\"https://colab.research.google.com/github/abithagit/pythonpgm/blob/main/CO_1.ipynb\" target=\"_parent\"><img src=\"https://colab.research.google.com/assets/colab-badge.svg\" alt=\"Open In Colab\"/></a>"
      ]
    },
    {
      "cell_type": "code",
      "metadata": {
        "colab": {
          "base_uri": "https://localhost:8080/"
        },
        "id": "Q1bguaFYBpNw",
        "outputId": "766a3438-c42a-4dd6-cea4-d90054203014"
      },
      "source": [
        "#2\n",
        "y1=int(input(\"enter the current year: \"))\n",
        "y2=int(input(\"enter the last year: \"))\n",
        "for i in range(y1,y2+1):\n",
        "  if(i%4==0 and i%100!=0 or i%400==0):\n",
        "    print(i)\n",
        "  i=i+1"
      ],
      "execution_count": null,
      "outputs": [
        {
          "output_type": "stream",
          "text": [
            "enter the current year: 2021\n",
            "enter the last year: 2031\n",
            "2024\n",
            "2028\n"
          ],
          "name": "stdout"
        }
      ]
    },
    {
      "cell_type": "code",
      "metadata": {
        "colab": {
          "base_uri": "https://localhost:8080/"
        },
        "id": "a3Ku_GKJSbS0",
        "outputId": "252bfb74-7cb9-4923-ce41-1209ba6fa7cf"
      },
      "source": [
        "#4\n",
        "def word_count(str):\n",
        "    counts = dict()\n",
        "    words = str.split()\n",
        " \n",
        "    for word in words:\n",
        "        if word in counts:\n",
        "            counts[word] += 1\n",
        "        else:\n",
        "            counts[word] = 1\n",
        " \n",
        "    return counts\n",
        " \n",
        "print( word_count(\"haii hello how are you are you ok\" ) )"
      ],
      "execution_count": null,
      "outputs": [
        {
          "output_type": "stream",
          "text": [
            "{'haii': 1, 'hello': 1, 'how': 1, 'are': 2, 'you': 2, 'ok': 1}\n"
          ],
          "name": "stdout"
        }
      ]
    },
    {
      "cell_type": "code",
      "metadata": {
        "colab": {
          "base_uri": "https://localhost:8080/"
        },
        "id": "-6L5OtlFGE_r",
        "outputId": "3e804750-11df-434e-9982-ffdffd00ffd1"
      },
      "source": [
        "#5\n",
        "list=[]\n",
        "for i in range(5):\n",
        "  x=int(input(\"enter the nmbr: \"))\n",
        "  if x<100:\n",
        "    list.append(x)\n",
        "  else:\n",
        "    list.append(\"over\")\n",
        "print(list)"
      ],
      "execution_count": null,
      "outputs": [
        {
          "output_type": "stream",
          "text": [
            "enter the nmbr: 3\n",
            "enter the nmbr: 90\n",
            "enter the nmbr: 108\n",
            "enter the nmbr: 223\n",
            "enter the nmbr: 89\n",
            "[3, 90, 'over', 'over', 89]\n"
          ],
          "name": "stdout"
        }
      ]
    },
    {
      "cell_type": "code",
      "metadata": {
        "colab": {
          "base_uri": "https://localhost:8080/"
        },
        "id": "6f9BFdDGgi6o",
        "outputId": "7d8259a0-188d-4c00-85e8-18021533fa9e"
      },
      "source": [
        "#7\n",
        "l1=[20,70,40,90]\n",
        "l2=[60,90,50,30,20]\n",
        "print(\"len of l1\",len(l1))\n",
        "print(\"len of l2\",len(l2))\n",
        "total=sum(l1)\n",
        "print(\"sum of l1\",total)\n",
        "total=sum(l2)\n",
        "print(\"sum of l2\",total)\n",
        "l3=[]\n",
        "for nmbr in l1:\n",
        "  if nmbr in l2:\n",
        "    if nmbr not in l3:\n",
        "      l3.append(nmbr)\n",
        "print(l3)"
      ],
      "execution_count": null,
      "outputs": [
        {
          "output_type": "stream",
          "text": [
            "len of l1 4\n",
            "len of l2 5\n",
            "sum of l1 220\n",
            "sum of l2 250\n",
            "[20, 90]\n"
          ],
          "name": "stdout"
        }
      ]
    },
    {
      "cell_type": "code",
      "metadata": {
        "colab": {
          "base_uri": "https://localhost:8080/"
        },
        "id": "P9Lp3sGOmLcc",
        "outputId": "5b978384-d043-44f0-e236-bcb1ddb7e7b7"
      },
      "source": [
        "#10\n",
        "import math\n",
        "radius=int(input(\"enter radius of the circle: \"))\n",
        "area=math.pi*radius*radius\n",
        "print(\"area of the circle is: \",area)"
      ],
      "execution_count": null,
      "outputs": [
        {
          "output_type": "stream",
          "text": [
            "enter radius of the circle: 6\n",
            "area of the circle is:  113.09733552923255\n"
          ],
          "name": "stdout"
        }
      ]
    },
    {
      "cell_type": "code",
      "metadata": {
        "colab": {
          "base_uri": "https://localhost:8080/"
        },
        "id": "Z4SOFA8NrSEv",
        "outputId": "53e67333-b20d-4dfb-ccd9-e9922ff3b58c"
      },
      "source": [
        "#11\n",
        "n1=int(input(\"enter n1: \"))\n",
        "n2=int(input(\"enter n2: \"))\n",
        "n3=int(input(\"enter n3: \"))\n",
        "if n1>n2:\n",
        "  if n1>n3:\n",
        "    print(\"biggest nmbr is: \",n1)\n",
        "  else:\n",
        "     print(\"biggest nmbr is: \",n3)\n",
        "elif n2>n3:\n",
        "    print(\"biggest nmbr is: \",n2)\n",
        "else:\n",
        "    print(\"biggest nmbr is:\",n3)   "
      ],
      "execution_count": null,
      "outputs": [
        {
          "output_type": "stream",
          "text": [
            "enter n1: 44\n",
            "enter n2: 87\n",
            "enter n3: 63\n",
            "biggest nmbr is:  87\n"
          ],
          "name": "stdout"
        }
      ]
    },
    {
      "cell_type": "code",
      "metadata": {
        "colab": {
          "base_uri": "https://localhost:8080/"
        },
        "id": "zk-MUxzRvv3j",
        "outputId": "f59b36f8-d99f-42e0-cd8c-466533cc1f12"
      },
      "source": [
        "#20\n",
        "list=[1,2,3,4,5,6,7,8,9]\n",
        "for i in list:\n",
        " if i%2==0:\n",
        "  list.remove(i) \n",
        "print(list)"
      ],
      "execution_count": null,
      "outputs": [
        {
          "output_type": "stream",
          "text": [
            "[1, 3, 5, 7, 9]\n"
          ],
          "name": "stdout"
        }
      ]
    },
    {
      "cell_type": "code",
      "metadata": {
        "colab": {
          "base_uri": "https://localhost:8080/"
        },
        "id": "vuehPgGUKH7a",
        "outputId": "599339d8-6ec8-423d-d493-fea72f80c8b1"
      },
      "source": [
        "#19\n",
        "import math\n",
        "a=int(input(\"enter nmbr 1: \")) \n",
        "b=int(input(\"enter nmbr 2: \"))\n",
        "gcd=math.gcd(a,b)\n",
        "print(gcd)"
      ],
      "execution_count": null,
      "outputs": [
        {
          "output_type": "stream",
          "text": [
            "enter nmbr 1: 7\n",
            "enter nmbr 2: 9\n",
            "1\n"
          ],
          "name": "stdout"
        }
      ]
    },
    {
      "cell_type": "code",
      "metadata": {
        "colab": {
          "base_uri": "https://localhost:8080/"
        },
        "id": "Sb0xj49ejXSZ",
        "outputId": "9fe69aaf-18d3-4ca9-ffc4-ab2f7b9d65a9"
      },
      "source": [
        "#3.a\n",
        "list=[8,5,-2,6,-7,-5,3,0,-9]\n",
        "nwlist=[x for x in list  if x>0]\n",
        "print(nwlist)"
      ],
      "execution_count": null,
      "outputs": [
        {
          "output_type": "stream",
          "text": [
            "[8, 5, 6, 3]\n"
          ],
          "name": "stdout"
        }
      ]
    },
    {
      "cell_type": "code",
      "metadata": {
        "colab": {
          "base_uri": "https://localhost:8080/"
        },
        "id": "nWE3YEstkb5d",
        "outputId": "d8a18b7e-b127-469f-ab09-f659edfc8abd"
      },
      "source": [
        "#3.b\n",
        "N=int(input(\"enter nmbr of elements: \"))\n",
        "list=[]\n",
        "for x in range (N):\n",
        "  x=int(input(\"enter nmbr: \"))\n",
        "  list.append(x)\n",
        "print(list)\n",
        "sqlist=[x**2 for x in list]\n",
        "print(sqlist)"
      ],
      "execution_count": null,
      "outputs": [
        {
          "output_type": "stream",
          "text": [
            "enter nmbr of elements: 5\n",
            "enter nmbr: 3\n",
            "enter nmbr: 6\n",
            "enter nmbr: 9\n",
            "enter nmbr: 8\n",
            "enter nmbr: 4\n",
            "[3, 6, 9, 8, 4]\n",
            "[9, 36, 81, 64, 16]\n"
          ],
          "name": "stdout"
        }
      ]
    },
    {
      "cell_type": "code",
      "metadata": {
        "colab": {
          "base_uri": "https://localhost:8080/"
        },
        "id": "v-5Jz_NMk9b9",
        "outputId": "d56b1be0-1353-4d3c-9078-1bc4e753bae9"
      },
      "source": [
        "#3.c\n",
        "word=\"orange\"\n",
        "vowels=\"aeiou\"\n",
        "list=[x for x in word if x in vowels]\n",
        "print(list)"
      ],
      "execution_count": null,
      "outputs": [
        {
          "output_type": "stream",
          "text": [
            "['o', 'a', 'e']\n"
          ],
          "name": "stdout"
        }
      ]
    },
    {
      "cell_type": "code",
      "metadata": {
        "colab": {
          "base_uri": "https://localhost:8080/"
        },
        "id": "ZE-UobXcln9v",
        "outputId": "54ec65a6-6180-4731-fe91-9625e3316ea0"
      },
      "source": [
        "#3.d\n",
        "word=\"flower\"\n",
        "list=[ord(x) for x in word]\n",
        "print(list)"
      ],
      "execution_count": null,
      "outputs": [
        {
          "output_type": "stream",
          "text": [
            "[102, 108, 111, 119, 101, 114]\n"
          ],
          "name": "stdout"
        }
      ]
    },
    {
      "cell_type": "code",
      "metadata": {
        "colab": {
          "base_uri": "https://localhost:8080/"
        },
        "id": "5xi1S--yzhU1",
        "outputId": "fc66e6b1-5a83-4f4a-d997-ea2d867a0cef"
      },
      "source": [
        "#6\n",
        "list = [\"a\", \"b\", \"a\", \"c\"]\n",
        "occ=list.count(\"a\" )\n",
        "print(occ)"
      ],
      "execution_count": null,
      "outputs": [
        {
          "output_type": "stream",
          "text": [
            "2\n"
          ],
          "name": "stdout"
        }
      ]
    },
    {
      "cell_type": "code",
      "metadata": {
        "colab": {
          "base_uri": "https://localhost:8080/"
        },
        "id": "o_2txMba-guE",
        "outputId": "12a9638f-7b55-47d6-b8e6-530da3b73f10"
      },
      "source": [
        "#8\n",
        "w=input(\"enter the string\")\n",
        "start=w[0]\n",
        "s=w.replace(start,\"$\")\n",
        "print(start+s[1:])"
      ],
      "execution_count": 4,
      "outputs": [
        {
          "output_type": "stream",
          "text": [
            "enter the stringonion\n",
            "oni$n\n"
          ],
          "name": "stdout"
        }
      ]
    },
    {
      "cell_type": "code",
      "metadata": {
        "colab": {
          "base_uri": "https://localhost:8080/"
        },
        "id": "KmgUnLp7_GRq",
        "outputId": "c9c3d791-d25a-4d69-c12c-80846f3cb9e3"
      },
      "source": [
        "#9\n",
        "def stringch(str1):\n",
        "  return str1[-1:] + str1[1:-1] + str1[:1]\n",
        "print(stringch('abcd'))\n",
        "print(stringch('1234'))"
      ],
      "execution_count": 8,
      "outputs": [
        {
          "output_type": "stream",
          "text": [
            "dbca\n",
            "4231\n"
          ],
          "name": "stdout"
        }
      ]
    }
  ]
}