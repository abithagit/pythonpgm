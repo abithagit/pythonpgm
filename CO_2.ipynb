{
  "nbformat": 4,
  "nbformat_minor": 0,
  "metadata": {
    "colab": {
      "name": "CO-2",
      "provenance": [],
      "collapsed_sections": [],
      "authorship_tag": "ABX9TyNOaJDmyOjbO9xwe5SqZ8fA",
      "include_colab_link": true
    },
    "kernelspec": {
      "name": "python3",
      "display_name": "Python 3"
    }
  },
  "cells": [
    {
      "cell_type": "markdown",
      "metadata": {
        "id": "view-in-github",
        "colab_type": "text"
      },
      "source": [
        "<a href=\"https://colab.research.google.com/github/abithagit/pythonpgm/blob/main/CO_2.ipynb\" target=\"_parent\"><img src=\"https://colab.research.google.com/assets/colab-badge.svg\" alt=\"Open In Colab\"/></a>"
      ]
    },
    {
      "cell_type": "code",
      "metadata": {
        "id": "jbTrlXX-motf",
        "colab": {
          "base_uri": "https://localhost:8080/"
        },
        "outputId": "bf031155-401e-4a34-a3f3-b7e265bf1d1e"
      },
      "source": [
        "#1\n",
        "n=int(input(\"enter nmbr: \"))\n",
        "fact=1\n",
        "for i in range(1,n+1):\n",
        "  fact=fact*i\n",
        "print(\"fact of\",n,\"is\",fact)"
      ],
      "execution_count": null,
      "outputs": [
        {
          "output_type": "stream",
          "text": [
            "enter nmbr: 6\n",
            "fact of 6 is 720\n"
          ],
          "name": "stdout"
        }
      ]
    },
    {
      "cell_type": "code",
      "metadata": {
        "colab": {
          "base_uri": "https://localhost:8080/"
        },
        "id": "cRfU6Qjco1cU",
        "outputId": "ad1552d3-92ae-42b9-f7e9-c688fb5ad245"
      },
      "source": [
        "#3\n",
        "list=[1,2,3,4,5]\n",
        "print(sum(list))"
      ],
      "execution_count": null,
      "outputs": [
        {
          "output_type": "stream",
          "text": [
            "15\n"
          ],
          "name": "stdout"
        }
      ]
    },
    {
      "cell_type": "code",
      "metadata": {
        "colab": {
          "base_uri": "https://localhost:8080/"
        },
        "id": "niHHuhXpO55X",
        "outputId": "38c114c0-34a9-434d-954d-f1928661964c"
      },
      "source": [
        "#11\n",
        " \n",
        "r_area = lambda len, ht : len*ht\n",
        " print(\"Area of Rectangle (30,20) is:\", r_area(30,20))\n",
        " \n",
        "s_area = lambda len, ht : len*ht\n",
        "print(\"Area of Square (5,5) is:\", s_area(5,5))\n",
        " \n",
        "a = 5\n",
        "b = 6\n",
        "c = 7\n",
        "s = (a + b + c) / 2\n",
        "t_area = (s*(s-a)*(s-b)*(s-c)) \n",
        "print('The area of the triangle is ', t_area)"
      ],
      "execution_count": null,
      "outputs": [
        {
          "output_type": "stream",
          "text": [
            "Area of Rectangle (30,20) is: 600\n",
            "Area of Square (5,5) is: 25\n",
            "The area of the triangle is  216.0\n"
          ],
          "name": "stdout"
        }
      ]
    },
    {
      "cell_type": "code",
      "metadata": {
        "colab": {
          "base_uri": "https://localhost:8080/"
        },
        "id": "kifCk-SlX3w6",
        "outputId": "a5f965ee-50f6-43f7-d4bd-536826de262e"
      },
      "source": [
        " \n",
        "#2\n",
        "n=int(input(\"enter limit\"))\n",
        "a=0\n",
        "b=1\n",
        "print (a) \n",
        "print (b) \n",
        "for i in range(2, n) :\n",
        "   sum=a+b\n",
        "   print(sum) \n",
        "   a=b\n",
        "   b=sum"
      ],
      "execution_count": null,
      "outputs": [
        {
          "output_type": "stream",
          "text": [
            "enter limit10\n",
            "0\n",
            "1\n",
            "1\n",
            "2\n",
            "3\n",
            "5\n",
            "8\n",
            "13\n",
            "21\n",
            "34\n"
          ],
          "name": "stdout"
        }
      ]
    },
    {
      "cell_type": "code",
      "metadata": {
        "colab": {
          "base_uri": "https://localhost:8080/"
        },
        "id": "I73nxoNJK8rE",
        "outputId": "6278beb5-e238-4ccc-8478-ed378d4e8673"
      },
      "source": [
        "#10\n",
        "n=int(input(\"enter the number:\"))\n",
        "print(\"the factors of\",n,\"are:\")\n",
        "for i in range(1,n+1):\n",
        "  if n%i == 0:\n",
        "    print(i)"
      ],
      "execution_count": null,
      "outputs": [
        {
          "output_type": "stream",
          "text": [
            "enter the number:24\n",
            "the factors of 24 are:\n",
            "1\n",
            "2\n",
            "3\n",
            "4\n",
            "6\n",
            "8\n",
            "12\n",
            "24\n"
          ],
          "name": "stdout"
        }
      ]
    },
    {
      "cell_type": "code",
      "metadata": {
        "id": "DXrUIgY8MDwJ",
        "colab": {
          "base_uri": "https://localhost:8080/"
        },
        "outputId": "9002270f-9e79-40d0-ecca-10242d9b40ab"
      },
      "source": [
        "#9\n",
        "y=4\n",
        "i=\"*\"\n",
        "for x in range(1):\n",
        "  for j in range(6):\n",
        "    print(i*j)\n",
        "while y>=1:\n",
        "    print(y*i)\n",
        "    y=y-1"
      ],
      "execution_count": null,
      "outputs": [
        {
          "output_type": "stream",
          "text": [
            "\n",
            "*\n",
            "**\n",
            "***\n",
            "****\n",
            "*****\n",
            "****\n",
            "***\n",
            "**\n",
            "*\n"
          ],
          "name": "stdout"
        }
      ]
    },
    {
      "cell_type": "code",
      "metadata": {
        "colab": {
          "base_uri": "https://localhost:8080/"
        },
        "id": "8LtgLhaXOVRC",
        "outputId": "db42f1aa-e917-45c1-e38e-3e1de993b7cf"
      },
      "source": [
        "#8\n",
        "list=[]\n",
        "n=int(input(\"enter the number of words in the list:\"))\n",
        "for i in range(n):\n",
        "  x=input(\"enter the word:\")\n",
        "  list.append(x)\n",
        "print(list)\n",
        "length=len(list[0])\n",
        "temp=list[0]\n",
        "for i in list:\n",
        "  if len(i) > length:\n",
        "    length=len(i)\n",
        "    temp=i\n",
        "print(\"the longest word is of length\",length)"
      ],
      "execution_count": null,
      "outputs": [
        {
          "output_type": "stream",
          "text": [
            "enter the number of words in the list:3\n",
            "enter the word:Flower\n",
            "enter the word:Color\n",
            "enter the word:Vegetables\n",
            "['Flower', 'Color', 'Vegetables']\n",
            "the longest word is of length 10\n"
          ],
          "name": "stdout"
        }
      ]
    },
    {
      "cell_type": "code",
      "metadata": {
        "colab": {
          "base_uri": "https://localhost:8080/"
        },
        "id": "e9zYq8kBQgqb",
        "outputId": "566350dd-d2ef-4665-c6b8-542a4c3eb356"
      },
      "source": [
        "#7\n",
        "str=input(\"enter the string\")\n",
        "if str.endswith(\"ing\"):\n",
        "  str=str+\"ly\"\n",
        "else:\n",
        "  str=str+\"ing\"\n",
        "print(str)"
      ],
      "execution_count": null,
      "outputs": [
        {
          "output_type": "stream",
          "text": [
            "enter the stringEating\n",
            "Eatingly\n"
          ],
          "name": "stdout"
        }
      ]
    },
    {
      "cell_type": "code",
      "metadata": {
        "colab": {
          "base_uri": "https://localhost:8080/"
        },
        "id": "6ZNYrW7BSZaf",
        "outputId": "40969ea7-31c2-408a-cf4a-5f0b8c9fcc3e"
      },
      "source": [
        "#6\n",
        "str=input(\"enter the string\")\n",
        "s={}\n",
        "for i in str:\n",
        "  if i in s:\n",
        "    s[i]+=1\n",
        "  else:\n",
        "    s[i]=1\n",
        "print(\"count of all characters are: \",s)"
      ],
      "execution_count": null,
      "outputs": [
        {
          "output_type": "stream",
          "text": [
            "enter the stringHello\n",
            "count of all characters are:  {'H': 1, 'e': 1, 'l': 2, 'o': 1}\n"
          ],
          "name": "stdout"
        }
      ]
    },
    {
      "cell_type": "code",
      "metadata": {
        "colab": {
          "base_uri": "https://localhost:8080/"
        },
        "id": "_qfTrfD1TiF9",
        "outputId": "524ac409-a8a6-4a29-d5a8-3d0869034597"
      },
      "source": [
        "#5\n",
        "n=int(input(\"enter the number of steps:\"))\n",
        "for i in range(1,n+1):\n",
        "  for j in range(1, i+1):\n",
        "    print(i*j,end=' ')\n",
        "  print(\"\\n\")"
      ],
      "execution_count": null,
      "outputs": [
        {
          "output_type": "stream",
          "text": [
            "enter the number of steps:4\n",
            "1 \n",
            "\n",
            "2 4 \n",
            "\n",
            "3 6 9 \n",
            "\n",
            "4 8 12 16 \n",
            "\n"
          ],
          "name": "stdout"
        }
      ]
    },
    {
      "cell_type": "code",
      "metadata": {
        "id": "U9_NM07rX_K3"
      },
      "source": [
        " \n",
        "#4\n",
        "for i in range(1000,10000):\n",
        "  for j in range(32,100):\n",
        "    if i == j*j:\n",
        "      string = str(i)\n",
        "      if int(string[0])%2 == 0 and int(string[1])%2 == 0 and int(string[2])%2 == 0 and int(string[3])%2 == 0:\n",
        "        print(i)"
      ],
      "execution_count": null,
      "outputs": []
    }
  ]
}